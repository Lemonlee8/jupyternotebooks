{
 "cells": [
  {
   "cell_type": "markdown",
   "metadata": {},
   "source": [
    "## Rectangular Reinforced Concrete Section\n",
    "Notes:\n",
    "- Moment-curvature and P-M interaction\n",
    "\n",
    "[refers](https://mybinder.org/v2/gh/silviamazzoni/BraineryBytes/HEAD?filepath=BraineryBytes_WebTeach_MomCurv_PMInterax_C_RectRCSection.ipynb)"
   ]
  },
  {
   "cell_type": "code",
   "execution_count": 1,
   "metadata": {},
   "outputs": [],
   "source": [
    "# Initalize python pakages\n",
    "import openseespy.opensees as ops\n",
    "import matplotlib.pyplot as plt\n",
    "import eSEESminiPy\n",
    "import math"
   ]
  },
  {
   "cell_type": "code",
   "execution_count": 2,
   "metadata": {},
   "outputs": [],
   "source": [
    "# Initialize Arrays and variables\n",
    "global matTag\n",
    "matTag = 0\n",
    "secTag = 0\n",
    "SectionTagMap = {}\n",
    "MaterialTagMap = {}\n",
    "allSectionData = {}\n",
    "WsectionData = {}\n",
    "MomCurvData = {}\n",
    "MatStressStrainData = {}\n",
    "SectionLabelList = []\n",
    "plt.close('all')\n",
    "# Define bending directions for moment-curvature analysis\n",
    "# you may remove either y or z if needed.\n",
    "BendingDirectionList = ['z','y']"
   ]
  },
  {
   "cell_type": "code",
   "execution_count": null,
   "metadata": {},
   "outputs": [],
   "source": [
    "# UTILITIES\n",
    "# Define some local handy procs\n",
    "def addMaterial(MaterialType,InputArray):\n",
    "    global matTag\n",
    "    matTag += 1\n",
    "    ops.uniaxialMaterial(MaterialType,matTag,*InputArray)\n",
    "    return matTag\n",
    "\n",
    "### Plot Moment-Curvature Responses\n",
    "def plotMomCurv(testSectionLabel,MomCurvData):\n",
    "    thisFig = {}\n",
    "    axModel = {}\n",
    "    thisFigMomCurv = plt.figure('Moment Curvature ' + testSectionLabel,figsize=(6,3), dpi=200, facecolor='w', edgecolor='k' )\n",
    "    iAx = 0\n",
    "    for BendingDirection in MomCurvData[testSectionLabel].keys():\n",
    "        iAx += 1\n",
    "        axMomCurv = thisFigMomCurv.add_subplot(1,len(MomCurvData[testSectionLabel].keys()),iAx)\n",
    "        line, = axMomCurv.plot(MomCurvData[testSectionLabel][BendingDirection]['Curvature'], MomCurvData[testSectionLabel][BendingDirection]['Moment'])\n",
    "        eSEESminiPy.formatAx(axMomCurv,'Moment-Curvature ' + testSectionLabel+ ' ' + BendingDirection,'Curvature ' + BendingDirection,'Moment ' + BendingDirection,6,6)\n",
    "        for thisFiberLabel in MomCurvData[testSectionLabel][BendingDirection]['StrainData'][SectionTagMap[testSectionLabel]].keys():\n",
    "            if iAx == 1:\n",
    "                thisFig[thisFiberLabel] = plt.figure('Stress Strain ' + thisFiberLabel,figsize=(4,1), dpi=200, facecolor='w', edgecolor='k' )\n",
    "            axModel[thisFiberLabel] = thisFig[thisFiberLabel].add_subplot(1,len(MomCurvData[testSectionLabel].keys()),iAx)\n",
    "            line, = axModel[thisFiberLabel].plot(MomCurvData[testSectionLabel][BendingDirection]['StrainData'][SectionTagMap[testSectionLabel]][thisFiberLabel],MomCurvData[testSectionLabel][BendingDirection]['StressData'][SectionTagMap[testSectionLabel]][thisFiberLabel], 'k',linewidth = 1)\n",
    "            eSEESminiPy.formatAx(axModel[thisFiberLabel],'Stress Strain ' + thisFiberLabel + \" \" + BendingDirection,'Strain ' + BendingDirection,'Stress ' + BendingDirection,6,6)\n",
    "            \n",
    "# Plot P-M Interaction Data\n",
    "def plotPMInterax(testSectionLabel,PMinteraxData):\n",
    "    FiberFig = {}\n",
    "    FiberAx = {}\n",
    "    thisFigPMI = plt.figure('P-M Interax ' + testSectionLabel,figsize=(6,3), dpi=200, facecolor='w', edgecolor='k' )\n",
    "    thisFigMomCurv = plt.figure('Moment Curvature ' + testSectionLabel,figsize=(6,3), dpi=200, facecolor='w', edgecolor='k' )\n",
    "    iAx = 0\n",
    "    for BendingDirection in BendingDirectionList:\n",
    "        iAx += 1\n",
    "        axPMI = thisFigPMI.add_subplot(1,2,iAx)\n",
    "        axMomCurv = thisFigMomCurv.add_subplot(1,2,iAx)\n",
    "\n",
    "        for CurvatureSign in PMinteraxData[testSectionLabel][BendingDirection].keys():\n",
    "            for thisAxial in  PMinteraxData[testSectionLabel][BendingDirection][CurvatureSign].keys():\n",
    "                thisMomCurvData = PMinteraxData[testSectionLabel][BendingDirection][CurvatureSign][thisAxial]\n",
    "                line, = axPMI.plot(thisMomCurvData['Moment'], thisMomCurvData['AxialForce']) #########################\n",
    "                axPMI.plot(max(thisMomCurvData['Moment'], key=abs), thisAxial,'ro',markerSize = 2,linewidth = 1)\n",
    "                line, = axMomCurv.plot(thisMomCurvData['Curvature'], thisMomCurvData['Moment'])\n",
    "                StrainData = thisMomCurvData['StrainData'][SectionTagMap[testSectionLabel]]\n",
    "                StressData = thisMomCurvData['StressData'][SectionTagMap[testSectionLabel]]\n",
    "                for thisFiberLabel,thisFiberStrain in StrainData.items():\n",
    "                    if not thisFiberLabel in FiberFig.keys():\n",
    "                        FiberFig[thisFiberLabel]= plt.figure('Fiber SS ' + testSectionLabel + thisFiberLabel,figsize=(4,1), dpi=200, facecolor='w', edgecolor='k' )\n",
    "                    if not thisFiberLabel+ ' ' + BendingDirection in FiberAx.keys():\n",
    "                        FiberAx[thisFiberLabel+ ' ' + BendingDirection] = FiberFig[thisFiberLabel].add_subplot(1,2,iAx)\n",
    "                    thisFiberStress = StressData[thisFiberLabel]\n",
    "                    line, = FiberAx[thisFiberLabel+ ' ' + BendingDirection].plot(thisFiberStrain,thisFiberStress,linewidth = 1)\n",
    "        eSEESminiPy.formatAx(axPMI,'P-M Interax ' + testSectionLabel + ' ' + BendingDirection,'Bending Moment ' + BendingDirection,'Axial Force',6,6)\n",
    "        eSEESminiPy.formatAx(axMomCurv,'P-M Interax MomentCurv ' + testSectionLabel + ' ' + BendingDirection ,'Curvature ' + BendingDirection,'Bending Moment ' + BendingDirection,6,6)\n",
    "        eSEESminiPy.reverseYaxis(axPMI) # plot Axial Force Compression up\n",
    "    for thisAxLabel,thisValue in FiberAx.items():\n",
    "        eSEESminiPy.formatAx(thisValue,thisAxLabel,'Strain','Stress',6,6)\n",
    "    plt.show()   "
   ]
  }
 ],
 "metadata": {
  "interpreter": {
   "hash": "cf17582af62558c2a33ec899c3ff433e5d1f0e452b81efabfde7373816e951dd"
  },
  "kernelspec": {
   "display_name": "Python 3.8.5 64-bit ('py38': conda)",
   "language": "python",
   "name": "python3"
  },
  "language_info": {
   "codemirror_mode": {
    "name": "ipython",
    "version": 3
   },
   "file_extension": ".py",
   "mimetype": "text/x-python",
   "name": "python",
   "nbconvert_exporter": "python",
   "pygments_lexer": "ipython3",
   "version": "3.8.5"
  },
  "orig_nbformat": 4
 },
 "nbformat": 4,
 "nbformat_minor": 2
}
